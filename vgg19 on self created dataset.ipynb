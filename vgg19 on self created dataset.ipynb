{
 "cells": [
  {
   "cell_type": "code",
   "execution_count": 1,
   "metadata": {},
   "outputs": [
    {
     "name": "stderr",
     "output_type": "stream",
     "text": [
      "Using TensorFlow backend.\n"
     ]
    }
   ],
   "source": [
    "import numpy as np\n",
    "from keras.models import Sequential\n",
    "from keras.layers import Input,Dense,Activation,Flatten,ZeroPadding2D,Conv2D,BatchNormalization\n",
    "from keras.layers import AveragePooling2D,MaxPooling2D,GlobalAveragePooling2D,GlobalMaxPooling2D,Dropout\n",
    "from keras.optimizers import SGD,RMSprop,adam\n",
    "from keras.preprocessing import image"
   ]
  },
  {
   "cell_type": "code",
   "execution_count": 2,
   "metadata": {},
   "outputs": [],
   "source": [
    "import os\n",
    "import matplotlib\n",
    "import matplotlib.pyplot as plt\n",
    "from sklearn.model_selection import train_test_split\n",
    "from sklearn.utils import shuffle\n",
    "from PIL import Image"
   ]
  },
  {
   "cell_type": "code",
   "execution_count": 3,
   "metadata": {},
   "outputs": [],
   "source": [
    "from keras.utils import layer_utils\n",
    "from keras.utils import np_utils\n",
    "from keras.utils.data_utils import get_file\n",
    "from keras.utils import plot_model\n",
    "from keras.utils.vis_utils import model_to_dot\n",
    "from keras.applications.imagenet_utils import preprocess_input\n",
    "from IPython.display import SVG\n"
   ]
  },
  {
   "cell_type": "code",
   "execution_count": 4,
   "metadata": {},
   "outputs": [],
   "source": [
    "path1=\"C:\\dataset 2\"\n",
    "path2=\"C:\\dataset 2 after preprocessing\"\n"
   ]
  },
  {
   "cell_type": "code",
   "execution_count": 5,
   "metadata": {},
   "outputs": [],
   "source": [
    "listing=os.listdir(path1)"
   ]
  },
  {
   "cell_type": "code",
   "execution_count": 6,
   "metadata": {},
   "outputs": [],
   "source": [
    "path3=\"C:\\dataset 2 after preprocessing vgg19\"\n",
    "for file in listing:\n",
    "    im=Image.open(path1 +'\\\\'+ file)\n",
    "    im=im.resize((224,224))\n",
    "    im.save(path3 + '\\\\'+ file,\"JPEG\")"
   ]
  },
  {
   "cell_type": "code",
   "execution_count": 7,
   "metadata": {},
   "outputs": [],
   "source": [
    "list3=os.listdir(path3)"
   ]
  },
  {
   "cell_type": "code",
   "execution_count": 8,
   "metadata": {},
   "outputs": [],
   "source": [
    "immatrix_new=np.array([np.array(Image.open('C:\\dataset 2 after preprocessing vgg19' + '\\\\'+ i)).flatten() for i in list3],'f')"
   ]
  },
  {
   "cell_type": "code",
   "execution_count": 9,
   "metadata": {},
   "outputs": [],
   "source": [
    "label=np.ones((immatrix_new.shape[0],),dtype=int)"
   ]
  },
  {
   "cell_type": "code",
   "execution_count": 10,
   "metadata": {},
   "outputs": [],
   "source": [
    "label[0:14]=0\n",
    "label[14:25]=1\n",
    "label[25:36]=2\n",
    "label[36:49]=3\n",
    "label[49:]=4"
   ]
  },
  {
   "cell_type": "code",
   "execution_count": 11,
   "metadata": {},
   "outputs": [],
   "source": [
    "d,l=shuffle(immatrix_new,label,random_state=2)"
   ]
  },
  {
   "cell_type": "code",
   "execution_count": 12,
   "metadata": {},
   "outputs": [],
   "source": [
    "train=[d,l]"
   ]
  },
  {
   "cell_type": "code",
   "execution_count": 13,
   "metadata": {},
   "outputs": [
    {
     "name": "stderr",
     "output_type": "stream",
     "text": [
      "Clipping input data to the valid range for imshow with RGB data ([0..1] for floats or [0..255] for integers).\n"
     ]
    },
    {
     "data": {
      "text/plain": [
       "<matplotlib.image.AxesImage at 0x25485035198>"
      ]
     },
     "execution_count": 13,
     "metadata": {},
     "output_type": "execute_result"
    },
    {
     "data": {
      "image/png": "[encoded data removed]",
      "text/plain": [
       "<Figure size 432x288 with 1 Axes>"
      ]
     },
     "metadata": {},
     "output_type": "display_data"
    }
   ],
   "source": [
    "img=immatrix_new[1].reshape(224,224,3)\n",
    "plt.imshow(img)"
   ]
  },
  {
   "cell_type": "code",
   "execution_count": 14,
   "metadata": {},
   "outputs": [
    {
     "name": "stdout",
     "output_type": "stream",
     "text": [
      "(56, 150528) (56,)\n"
     ]
    }
   ],
   "source": [
    "print(train[0].shape,train[1].shape)\n",
    "X,Y=(train[0],train[1])\n",
    "train_x,test_x,train_y,test_y=train_test_split(X,Y,test_size=0.4,random_state=3)"
   ]
  },
  {
   "cell_type": "code",
   "execution_count": 15,
   "metadata": {},
   "outputs": [],
   "source": [
    "train_x=train_x.reshape(train_x.shape[0],224,224,3)\n",
    "test_x=test_x.reshape(test_x.shape[0],224,224,3)"
   ]
  },
  {
   "cell_type": "code",
   "execution_count": 16,
   "metadata": {},
   "outputs": [],
   "source": [
    "train_x.astype('float32')\n",
    "test_x.astype('float32')\n",
    "train_x/=255\n",
    "test_x/=255"
   ]
  },
  {
   "cell_type": "code",
   "execution_count": 17,
   "metadata": {},
   "outputs": [],
   "source": [
    "train_y=np_utils.to_categorical(train_y,5)\n",
    "test_y=np_utils.to_categorical(test_y,5)\n"
   ]
  },
  {
   "cell_type": "code",
   "execution_count": 18,
   "metadata": {},
   "outputs": [
    {
     "name": "stdout",
     "output_type": "stream",
     "text": [
      "(33, 5)\n",
      "(23, 5)\n"
     ]
    }
   ],
   "source": [
    "print(train_y.shape)\n",
    "print(test_y.shape)"
   ]
  },
  {
   "cell_type": "code",
   "execution_count": 19,
   "metadata": {},
   "outputs": [],
   "source": [
    "#vgg19 net\n",
    "model=Sequential()\n",
    "\n",
    "#Block1\n",
    "model.add(Conv2D(64,(3,3),strides=(1,1),padding=\"same\",input_shape=(224,224,3)))\n",
    "convout1=Activation('relu')\n",
    "model.add(convout1)\n",
    "model.add(Conv2D(64,(3,3),strides=(1,1),padding=\"same\"))\n",
    "convout2=Activation('relu')\n",
    "model.add(convout2)\n",
    "model.add(MaxPooling2D((2,2),strides=(2,2)))\n",
    "\n",
    "\n",
    "#Block2\n",
    "model.add(Conv2D(128,(3,3),strides=(1,1),padding=\"same\"))\n",
    "convout3=Activation('relu')\n",
    "model.add(convout3)\n",
    "model.add(Conv2D(128,(3,3),strides=(1,1),padding=\"same\"))\n",
    "convout4=Activation('relu')\n",
    "model.add(convout4)\n",
    "model.add(MaxPooling2D((2,2),strides=(2,2)))\n",
    "\n",
    "#Block3\n",
    "model.add(Conv2D(256,(3,3),strides=(1,1),padding=\"same\"))\n",
    "convout5=Activation('relu')\n",
    "model.add(convout5)\n",
    "model.add(Conv2D(256,(3,3),strides=(1,1),padding=\"same\"))\n",
    "convout6=Activation('relu')\n",
    "model.add(convout6)\n",
    "model.add(Conv2D(256,(3,3),strides=(1,1),padding=\"same\"))\n",
    "convout7=Activation('relu')\n",
    "model.add(convout7)\n",
    "model.add(Conv2D(256,(3,3),strides=(1,1),padding=\"same\"))\n",
    "convout8=Activation('relu')\n",
    "model.add(convout8)\n",
    "model.add(MaxPooling2D((2,2),strides=(2,2)))\n",
    "\n",
    "\n",
    "#Block4\n",
    "model.add(Conv2D(512,(3,3),strides=(1,1),padding=\"same\"))\n",
    "convout9=Activation('relu')\n",
    "model.add(convout9)\n",
    "model.add(Conv2D(512,(3,3),strides=(1,1),padding=\"same\"))\n",
    "convout10=Activation('relu')\n",
    "model.add(convout10)\n",
    "model.add(Conv2D(512,(3,3),strides=(1,1),padding=\"same\"))\n",
    "convout11=Activation('relu')\n",
    "model.add(convout11)\n",
    "model.add(Conv2D(512,(3,3),strides=(1,1),padding=\"same\"))\n",
    "convout12=Activation('relu')\n",
    "model.add(convout12)\n",
    "model.add(MaxPooling2D((2,2),strides=(2,2)))\n",
    "\n",
    "#Block5\n",
    "model.add(Conv2D(512,(3,3),strides=(1,1),padding=\"same\"))\n",
    "convout13=Activation('relu')\n",
    "model.add(convout13)\n",
    "model.add(Conv2D(512,(3,3),strides=(1,1),padding=\"same\"))\n",
    "convout14=Activation('relu')\n",
    "model.add(convout14)\n",
    "model.add(Conv2D(512,(3,3),strides=(1,1),padding=\"same\"))\n",
    "convout15=Activation('relu')\n",
    "model.add(convout15)\n",
    "model.add(Conv2D(512,(3,3),strides=(1,1),padding=\"same\"))\n",
    "convout16=Activation('relu')\n",
    "model.add(convout16)\n",
    "model.add(MaxPooling2D((2,2),strides=(2,2)))\n",
    "\n",
    "model.add(Flatten())\n",
    "model.add(Dense(4096))\n",
    "model.add(Activation('relu'))\n",
    "model.add(Dense(4096))\n",
    "model.add(Activation('relu'))\n",
    "model.add(Dense(5))\n",
    "model.add(Activation('softmax'))\n",
    "model.compile(optimizer='adadelta',loss='categorical_crossentropy',metrics=[\"accuracy\"])\n"
   ]
  },
  {
   "cell_type": "code",
   "execution_count": 20,
   "metadata": {},
   "outputs": [
    {
     "name": "stdout",
     "output_type": "stream",
     "text": [
      "Train on 33 samples, validate on 23 samples\n",
      "Epoch 1/100\n",
      "33/33 [==============================] - 91s 3s/step - loss: 1.6086 - acc: 0.2727 - val_loss: 1.6069 - val_acc: 0.2609\n",
      "Epoch 2/100\n",
      "33/33 [==============================] - 9157s 277s/step - loss: 1.6160 - acc: 0.2424 - val_loss: 1.6086 - val_acc: 0.1739\n",
      "Epoch 3/100\n",
      "33/33 [==============================] - 92s 3s/step - loss: 1.6284 - acc: 0.2727 - val_loss: 1.6064 - val_acc: 0.2609\n",
      "Epoch 4/100\n",
      "33/33 [==============================] - 96s 3s/step - loss: 1.5981 - acc: 0.2424 - val_loss: 1.6083 - val_acc: 0.1739\n",
      "Epoch 5/100\n",
      "33/33 [==============================] - 93s 3s/step - loss: 1.5962 - acc: 0.2727 - val_loss: 1.6096 - val_acc: 0.1739\n",
      "Epoch 6/100\n",
      "33/33 [==============================] - 87s 3s/step - loss: 1.5950 - acc: 0.2727 - val_loss: 1.6105 - val_acc: 0.1739\n",
      "Epoch 7/100\n",
      "33/33 [==============================] - 83s 3s/step - loss: 1.5896 - acc: 0.1818 - val_loss: 1.6142 - val_acc: 0.1739\n",
      "Epoch 8/100\n",
      "33/33 [==============================] - 83s 3s/step - loss: 1.5927 - acc: 0.2727 - val_loss: 1.6132 - val_acc: 0.1739\n",
      "Epoch 9/100\n",
      "33/33 [==============================] - 90s 3s/step - loss: 1.5888 - acc: 0.2727 - val_loss: 1.6153 - val_acc: 0.1739\n",
      "Epoch 10/100\n",
      "33/33 [==============================] - 85s 3s/step - loss: 1.5864 - acc: 0.2727 - val_loss: 1.6185 - val_acc: 0.1739\n",
      "Epoch 11/100\n",
      "33/33 [==============================] - 82s 2s/step - loss: 1.5861 - acc: 0.2727 - val_loss: 1.6190 - val_acc: 0.1739\n",
      "Epoch 12/100\n",
      "33/33 [==============================] - 85s 3s/step - loss: 1.5863 - acc: 0.2727 - val_loss: 1.6192 - val_acc: 0.1739\n",
      "Epoch 13/100\n",
      "33/33 [==============================] - 88s 3s/step - loss: 1.5916 - acc: 0.2727 - val_loss: 1.6184 - val_acc: 0.1739\n",
      "Epoch 14/100\n",
      "33/33 [==============================] - 94s 3s/step - loss: 1.5878 - acc: 0.2727 - val_loss: 1.6194 - val_acc: 0.1739\n",
      "Epoch 15/100\n",
      "33/33 [==============================] - 89s 3s/step - loss: 1.5920 - acc: 0.1515 - val_loss: 1.6202 - val_acc: 0.1739\n",
      "Epoch 16/100\n",
      "33/33 [==============================] - 86s 3s/step - loss: 1.5913 - acc: 0.2727 - val_loss: 1.6183 - val_acc: 0.1739\n",
      "Epoch 17/100\n",
      "33/33 [==============================] - 81s 2s/step - loss: 1.5849 - acc: 0.2727 - val_loss: 1.6192 - val_acc: 0.1739\n",
      "Epoch 18/100\n",
      "33/33 [==============================] - 80s 2s/step - loss: 1.5880 - acc: 0.2727 - val_loss: 1.6192 - val_acc: 0.1739\n",
      "Epoch 19/100\n",
      "33/33 [==============================] - 80s 2s/step - loss: 1.5884 - acc: 0.2727 - val_loss: 1.6181 - val_acc: 0.1739\n",
      "Epoch 20/100\n",
      "33/33 [==============================] - 82s 2s/step - loss: 1.5834 - acc: 0.2727 - val_loss: 1.6203 - val_acc: 0.1739\n",
      "Epoch 21/100\n",
      "33/33 [==============================] - 80s 2s/step - loss: 1.5956 - acc: 0.2727 - val_loss: 1.6204 - val_acc: 0.1739\n",
      "Epoch 22/100\n",
      "33/33 [==============================] - 79s 2s/step - loss: 1.5956 - acc: 0.2727 - val_loss: 1.6180 - val_acc: 0.1739\n",
      "Epoch 23/100\n",
      "33/33 [==============================] - 79s 2s/step - loss: 1.5895 - acc: 0.2727 - val_loss: 1.6195 - val_acc: 0.1739\n",
      "Epoch 24/100\n",
      "33/33 [==============================] - 79s 2s/step - loss: 1.5948 - acc: 0.2727 - val_loss: 1.6178 - val_acc: 0.1739\n",
      "Epoch 25/100\n",
      "33/33 [==============================] - 85s 3s/step - loss: 1.5872 - acc: 0.2727 - val_loss: 1.6175 - val_acc: 0.1739\n",
      "Epoch 26/100\n",
      "33/33 [==============================] - 88s 3s/step - loss: 1.5847 - acc: 0.2727 - val_loss: 1.6193 - val_acc: 0.1739\n",
      "Epoch 27/100\n",
      "33/33 [==============================] - 87s 3s/step - loss: 1.5842 - acc: 0.2727 - val_loss: 1.6198 - val_acc: 0.1739\n",
      "Epoch 28/100\n",
      "33/33 [==============================] - 94s 3s/step - loss: 1.5844 - acc: 0.2727 - val_loss: 1.6205 - val_acc: 0.1739\n",
      "Epoch 29/100\n",
      "33/33 [==============================] - 96s 3s/step - loss: 1.5875 - acc: 0.2727 - val_loss: 1.6212 - val_acc: 0.1739\n",
      "Epoch 30/100\n",
      "33/33 [==============================] - 95s 3s/step - loss: 1.5826 - acc: 0.2727 - val_loss: 1.6222 - val_acc: 0.1739\n",
      "Epoch 31/100\n",
      "33/33 [==============================] - 94s 3s/step - loss: 1.5886 - acc: 0.2727 - val_loss: 1.6238 - val_acc: 0.1739\n",
      "Epoch 32/100\n",
      "33/33 [==============================] - 93s 3s/step - loss: 1.5858 - acc: 0.2727 - val_loss: 1.6231 - val_acc: 0.1739\n",
      "Epoch 33/100\n",
      "33/33 [==============================] - 94s 3s/step - loss: 1.5821 - acc: 0.2727 - val_loss: 1.6233 - val_acc: 0.1739\n",
      "Epoch 34/100\n",
      "33/33 [==============================] - 81s 2s/step - loss: 1.5875 - acc: 0.2727 - val_loss: 1.6229 - val_acc: 0.1739\n",
      "Epoch 35/100\n",
      "33/33 [==============================] - 85s 3s/step - loss: 1.5931 - acc: 0.2727 - val_loss: 1.6244 - val_acc: 0.1739\n",
      "Epoch 36/100\n",
      "33/33 [==============================] - 88s 3s/step - loss: 1.5872 - acc: 0.2727 - val_loss: 1.6236 - val_acc: 0.1739\n",
      "Epoch 37/100\n",
      "33/33 [==============================] - 83s 3s/step - loss: 1.5913 - acc: 0.2727 - val_loss: 1.6216 - val_acc: 0.1739\n",
      "Epoch 38/100\n",
      "33/33 [==============================] - 79s 2s/step - loss: 1.5868 - acc: 0.2727 - val_loss: 1.6205 - val_acc: 0.1739\n",
      "Epoch 39/100\n",
      "33/33 [==============================] - 79s 2s/step - loss: 1.5857 - acc: 0.2727 - val_loss: 1.6206 - val_acc: 0.1739\n",
      "Epoch 40/100\n",
      "33/33 [==============================] - 79s 2s/step - loss: 1.5921 - acc: 0.2727 - val_loss: 1.6188 - val_acc: 0.1739\n",
      "Epoch 41/100\n",
      "33/33 [==============================] - 79s 2s/step - loss: 1.5962 - acc: 0.2727 - val_loss: 1.6193 - val_acc: 0.1739\n",
      "Epoch 42/100\n",
      "33/33 [==============================] - 79s 2s/step - loss: 1.5854 - acc: 0.2727 - val_loss: 1.6193 - val_acc: 0.1739\n",
      "Epoch 43/100\n",
      "33/33 [==============================] - 79s 2s/step - loss: 1.5875 - acc: 0.2727 - val_loss: 1.6181 - val_acc: 0.1739\n",
      "Epoch 44/100\n",
      "33/33 [==============================] - 79s 2s/step - loss: 1.5826 - acc: 0.2727 - val_loss: 1.6186 - val_acc: 0.1739\n",
      "Epoch 45/100\n",
      "33/33 [==============================] - 80s 2s/step - loss: 1.5854 - acc: 0.2727 - val_loss: 1.6206 - val_acc: 0.1739\n",
      "Epoch 46/100\n",
      "33/33 [==============================] - 83s 3s/step - loss: 1.5859 - acc: 0.2727 - val_loss: 1.6201 - val_acc: 0.1739\n",
      "Epoch 47/100\n",
      "33/33 [==============================] - 87s 3s/step - loss: 1.5895 - acc: 0.2727 - val_loss: 1.6207 - val_acc: 0.1739\n",
      "Epoch 48/100\n",
      "33/33 [==============================] - 79s 2s/step - loss: 1.5898 - acc: 0.2727 - val_loss: 1.6212 - val_acc: 0.1739\n",
      "Epoch 49/100\n",
      "33/33 [==============================] - 79s 2s/step - loss: 1.5863 - acc: 0.2727 - val_loss: 1.6215 - val_acc: 0.1739\n",
      "Epoch 50/100\n",
      "33/33 [==============================] - 79s 2s/step - loss: 1.5870 - acc: 0.2727 - val_loss: 1.6211 - val_acc: 0.1739\n",
      "Epoch 51/100\n",
      "33/33 [==============================] - 79s 2s/step - loss: 1.5991 - acc: 0.2727 - val_loss: 1.6207 - val_acc: 0.1739\n",
      "Epoch 52/100\n",
      "33/33 [==============================] - 79s 2s/step - loss: 1.5905 - acc: 0.2727 - val_loss: 1.6208 - val_acc: 0.1739\n",
      "Epoch 53/100\n",
      "33/33 [==============================] - 80s 2s/step - loss: 1.5816 - acc: 0.2727 - val_loss: 1.6215 - val_acc: 0.1739\n",
      "Epoch 54/100\n",
      "33/33 [==============================] - 79s 2s/step - loss: 1.5900 - acc: 0.2727 - val_loss: 1.6216 - val_acc: 0.1739\n",
      "Epoch 55/100\n",
      "33/33 [==============================] - 79s 2s/step - loss: 1.5842 - acc: 0.2727 - val_loss: 1.6203 - val_acc: 0.1739\n",
      "Epoch 56/100\n",
      "33/33 [==============================] - 79s 2s/step - loss: 1.5847 - acc: 0.2727 - val_loss: 1.6199 - val_acc: 0.1739\n",
      "Epoch 57/100\n",
      "33/33 [==============================] - 80s 2s/step - loss: 1.5896 - acc: 0.2727 - val_loss: 1.6200 - val_acc: 0.1739\n",
      "Epoch 58/100\n",
      "33/33 [==============================] - 84s 3s/step - loss: 1.5840 - acc: 0.2727 - val_loss: 1.6192 - val_acc: 0.1739\n",
      "Epoch 59/100\n",
      "33/33 [==============================] - 82s 2s/step - loss: 1.5915 - acc: 0.2727 - val_loss: 1.6209 - val_acc: 0.1739\n",
      "Epoch 60/100\n",
      "33/33 [==============================] - 79s 2s/step - loss: 1.5855 - acc: 0.2727 - val_loss: 1.6216 - val_acc: 0.1739\n",
      "Epoch 61/100\n",
      "33/33 [==============================] - 79s 2s/step - loss: 1.5840 - acc: 0.2727 - val_loss: 1.6220 - val_acc: 0.1739\n",
      "Epoch 62/100\n",
      "33/33 [==============================] - 79s 2s/step - loss: 1.5848 - acc: 0.2727 - val_loss: 1.6227 - val_acc: 0.1739\n"
     ]
    },
    {
     "name": "stdout",
     "output_type": "stream",
     "text": [
      "Epoch 63/100\n",
      "33/33 [==============================] - 79s 2s/step - loss: 1.5884 - acc: 0.2727 - val_loss: 1.6200 - val_acc: 0.1739\n",
      "Epoch 64/100\n",
      "33/33 [==============================] - 80s 2s/step - loss: 1.5863 - acc: 0.2727 - val_loss: 1.6211 - val_acc: 0.1739\n",
      "Epoch 65/100\n",
      "33/33 [==============================] - 79s 2s/step - loss: 1.5876 - acc: 0.2727 - val_loss: 1.6199 - val_acc: 0.1739\n",
      "Epoch 66/100\n",
      "33/33 [==============================] - 79s 2s/step - loss: 1.5868 - acc: 0.2727 - val_loss: 1.6175 - val_acc: 0.1739\n",
      "Epoch 67/100\n",
      "33/33 [==============================] - 79s 2s/step - loss: 1.5969 - acc: 0.2727 - val_loss: 1.6196 - val_acc: 0.1739\n",
      "Epoch 68/100\n",
      "33/33 [==============================] - 79s 2s/step - loss: 1.5907 - acc: 0.2727 - val_loss: 1.6188 - val_acc: 0.1739\n",
      "Epoch 69/100\n",
      "33/33 [==============================] - 80s 2s/step - loss: 1.5839 - acc: 0.2727 - val_loss: 1.6197 - val_acc: 0.1739\n",
      "Epoch 70/100\n",
      "33/33 [==============================] - 87s 3s/step - loss: 1.5912 - acc: 0.2727 - val_loss: 1.6179 - val_acc: 0.1739\n",
      "Epoch 71/100\n",
      "33/33 [==============================] - 90s 3s/step - loss: 1.5827 - acc: 0.2727 - val_loss: 1.6190 - val_acc: 0.1739\n",
      "Epoch 72/100\n",
      "33/33 [==============================] - 88s 3s/step - loss: 1.5855 - acc: 0.2727 - val_loss: 1.6202 - val_acc: 0.1739\n",
      "Epoch 73/100\n",
      "33/33 [==============================] - 81s 2s/step - loss: 1.5874 - acc: 0.2727 - val_loss: 1.6199 - val_acc: 0.1739\n",
      "Epoch 74/100\n",
      "33/33 [==============================] - 88s 3s/step - loss: 1.5850 - acc: 0.2727 - val_loss: 1.6189 - val_acc: 0.1739\n",
      "Epoch 75/100\n",
      "33/33 [==============================] - 90s 3s/step - loss: 1.5842 - acc: 0.2727 - val_loss: 1.6192 - val_acc: 0.1739\n",
      "Epoch 76/100\n",
      "33/33 [==============================] - 90s 3s/step - loss: 1.5872 - acc: 0.2727 - val_loss: 1.6199 - val_acc: 0.1739\n",
      "Epoch 77/100\n",
      "33/33 [==============================] - 92s 3s/step - loss: 1.5875 - acc: 0.2727 - val_loss: 1.6202 - val_acc: 0.1739\n",
      "Epoch 78/100\n",
      "33/33 [==============================] - 89s 3s/step - loss: 1.5834 - acc: 0.2727 - val_loss: 1.6211 - val_acc: 0.1739\n",
      "Epoch 79/100\n",
      "33/33 [==============================] - 88s 3s/step - loss: 1.5893 - acc: 0.2727 - val_loss: 1.6211 - val_acc: 0.1739\n",
      "Epoch 80/100\n",
      "33/33 [==============================] - 89s 3s/step - loss: 1.5939 - acc: 0.2727 - val_loss: 1.6184 - val_acc: 0.1739\n",
      "Epoch 81/100\n",
      "33/33 [==============================] - 87s 3s/step - loss: 1.5915 - acc: 0.2727 - val_loss: 1.6174 - val_acc: 0.1739\n",
      "Epoch 82/100\n",
      "33/33 [==============================] - 90s 3s/step - loss: 1.5868 - acc: 0.2727 - val_loss: 1.6182 - val_acc: 0.1739\n",
      "Epoch 83/100\n",
      "33/33 [==============================] - 89s 3s/step - loss: 1.5864 - acc: 0.2727 - val_loss: 1.6191 - val_acc: 0.1739\n",
      "Epoch 84/100\n",
      "33/33 [==============================] - 85s 3s/step - loss: 1.5852 - acc: 0.2727 - val_loss: 1.6197 - val_acc: 0.1739\n",
      "Epoch 85/100\n",
      "33/33 [==============================] - 83s 3s/step - loss: 1.5902 - acc: 0.2727 - val_loss: 1.6191 - val_acc: 0.1739\n",
      "Epoch 86/100\n",
      "33/33 [==============================] - 89s 3s/step - loss: 1.5833 - acc: 0.2727 - val_loss: 1.6198 - val_acc: 0.1739\n",
      "Epoch 87/100\n",
      "33/33 [==============================] - 84s 3s/step - loss: 1.5819 - acc: 0.2727 - val_loss: 1.6195 - val_acc: 0.1739\n",
      "Epoch 88/100\n",
      "33/33 [==============================] - 88s 3s/step - loss: 1.5889 - acc: 0.2727 - val_loss: 1.6189 - val_acc: 0.1739\n",
      "Epoch 89/100\n",
      "33/33 [==============================] - 86s 3s/step - loss: 1.5848 - acc: 0.2727 - val_loss: 1.6188 - val_acc: 0.1739\n",
      "Epoch 90/100\n",
      "33/33 [==============================] - 86s 3s/step - loss: 1.5905 - acc: 0.2727 - val_loss: 1.6177 - val_acc: 0.1739\n",
      "Epoch 91/100\n",
      "33/33 [==============================] - 86s 3s/step - loss: 1.5857 - acc: 0.2727 - val_loss: 1.6182 - val_acc: 0.1739\n",
      "Epoch 92/100\n",
      "33/33 [==============================] - 86s 3s/step - loss: 1.5865 - acc: 0.2727 - val_loss: 1.6178 - val_acc: 0.1739\n",
      "Epoch 93/100\n",
      "33/33 [==============================] - 84s 3s/step - loss: 1.5838 - acc: 0.2727 - val_loss: 1.6184 - val_acc: 0.1739\n",
      "Epoch 94/100\n",
      "33/33 [==============================] - 85s 3s/step - loss: 1.5840 - acc: 0.2727 - val_loss: 1.6191 - val_acc: 0.1739\n",
      "Epoch 95/100\n",
      "33/33 [==============================] - 89s 3s/step - loss: 1.5834 - acc: 0.2727 - val_loss: 1.6192 - val_acc: 0.1739\n",
      "Epoch 96/100\n",
      "33/33 [==============================] - 82s 2s/step - loss: 1.5863 - acc: 0.2727 - val_loss: 1.6196 - val_acc: 0.1739\n",
      "Epoch 97/100\n",
      "33/33 [==============================] - 81s 2s/step - loss: 1.5813 - acc: 0.2727 - val_loss: 1.6200 - val_acc: 0.1739\n",
      "Epoch 98/100\n",
      "33/33 [==============================] - 92s 3s/step - loss: 1.5853 - acc: 0.2727 - val_loss: 1.6204 - val_acc: 0.1739\n",
      "Epoch 99/100\n",
      "33/33 [==============================] - 85s 3s/step - loss: 1.5835 - acc: 0.2727 - val_loss: 1.6209 - val_acc: 0.1739\n",
      "Epoch 100/100\n",
      "33/33 [==============================] - 83s 3s/step - loss: 1.5879 - acc: 0.2727 - val_loss: 1.6219 - val_acc: 0.1739\n"
     ]
    },
    {
     "data": {
      "text/plain": [
       "<keras.callbacks.History at 0x25485085860>"
      ]
     },
     "execution_count": 20,
     "metadata": {},
     "output_type": "execute_result"
    }
   ],
   "source": [
    "model.fit(train_x,train_y,epochs=100,batch_size=11,validation_data=(test_x,test_y))"
   ]
  },
  {
   "cell_type": "code",
   "execution_count": 22,
   "metadata": {},
   "outputs": [
    {
     "name": "stdout",
     "output_type": "stream",
     "text": [
      "23/23 [==============================] - 15s 642ms/step\n",
      "test score 1.62190592289\n",
      "test accuracy 0.173913046718\n",
      "[3 3 3 3]\n",
      "[[ 0.  0.  0.  1.  0.]\n",
      " [ 0.  0.  0.  1.  0.]\n",
      " [ 0.  0.  0.  1.  0.]\n",
      " [ 1.  0.  0.  0.  0.]]\n"
     ]
    }
   ],
   "source": [
    "score=model.evaluate(test_x,test_y)\n",
    "print(\"test score\",score[0])\n",
    "print(\"test accuracy\",score[1])\n",
    "print(model.predict_classes(test_x[1:5]))\n",
    "print(test_y[1:5])\n"
   ]
  },
  {
   "cell_type": "code",
   "execution_count": 23,
   "metadata": {},
   "outputs": [
    {
     "name": "stdout",
     "output_type": "stream",
     "text": [
      "_________________________________________________________________\n",
      "Layer (type)                 Output Shape              Param #   \n",
      "=================================================================\n",
      "conv2d_1 (Conv2D)            (None, 224, 224, 64)      1792      \n",
      "_________________________________________________________________\n",
      "activation_1 (Activation)    (None, 224, 224, 64)      0         \n",
      "_________________________________________________________________\n",
      "conv2d_2 (Conv2D)            (None, 224, 224, 64)      36928     \n",
      "_________________________________________________________________\n",
      "activation_2 (Activation)    (None, 224, 224, 64)      0         \n",
      "_________________________________________________________________\n",
      "max_pooling2d_1 (MaxPooling2 (None, 112, 112, 64)      0         \n",
      "_________________________________________________________________\n",
      "conv2d_3 (Conv2D)            (None, 112, 112, 128)     73856     \n",
      "_________________________________________________________________\n",
      "activation_3 (Activation)    (None, 112, 112, 128)     0         \n",
      "_________________________________________________________________\n",
      "conv2d_4 (Conv2D)            (None, 112, 112, 128)     147584    \n",
      "_________________________________________________________________\n",
      "activation_4 (Activation)    (None, 112, 112, 128)     0         \n",
      "_________________________________________________________________\n",
      "max_pooling2d_2 (MaxPooling2 (None, 56, 56, 128)       0         \n",
      "_________________________________________________________________\n",
      "conv2d_5 (Conv2D)            (None, 56, 56, 256)       295168    \n",
      "_________________________________________________________________\n",
      "activation_5 (Activation)    (None, 56, 56, 256)       0         \n",
      "_________________________________________________________________\n",
      "conv2d_6 (Conv2D)            (None, 56, 56, 256)       590080    \n",
      "_________________________________________________________________\n",
      "activation_6 (Activation)    (None, 56, 56, 256)       0         \n",
      "_________________________________________________________________\n",
      "conv2d_7 (Conv2D)            (None, 56, 56, 256)       590080    \n",
      "_________________________________________________________________\n",
      "activation_7 (Activation)    (None, 56, 56, 256)       0         \n",
      "_________________________________________________________________\n",
      "conv2d_8 (Conv2D)            (None, 56, 56, 256)       590080    \n",
      "_________________________________________________________________\n",
      "activation_8 (Activation)    (None, 56, 56, 256)       0         \n",
      "_________________________________________________________________\n",
      "max_pooling2d_3 (MaxPooling2 (None, 28, 28, 256)       0         \n",
      "_________________________________________________________________\n",
      "conv2d_9 (Conv2D)            (None, 28, 28, 512)       1180160   \n",
      "_________________________________________________________________\n",
      "activation_9 (Activation)    (None, 28, 28, 512)       0         \n",
      "_________________________________________________________________\n",
      "conv2d_10 (Conv2D)           (None, 28, 28, 512)       2359808   \n",
      "_________________________________________________________________\n",
      "activation_10 (Activation)   (None, 28, 28, 512)       0         \n",
      "_________________________________________________________________\n",
      "conv2d_11 (Conv2D)           (None, 28, 28, 512)       2359808   \n",
      "_________________________________________________________________\n",
      "activation_11 (Activation)   (None, 28, 28, 512)       0         \n",
      "_________________________________________________________________\n",
      "conv2d_12 (Conv2D)           (None, 28, 28, 512)       2359808   \n",
      "_________________________________________________________________\n",
      "activation_12 (Activation)   (None, 28, 28, 512)       0         \n",
      "_________________________________________________________________\n",
      "max_pooling2d_4 (MaxPooling2 (None, 14, 14, 512)       0         \n",
      "_________________________________________________________________\n",
      "conv2d_13 (Conv2D)           (None, 14, 14, 512)       2359808   \n",
      "_________________________________________________________________\n",
      "activation_13 (Activation)   (None, 14, 14, 512)       0         \n",
      "_________________________________________________________________\n",
      "conv2d_14 (Conv2D)           (None, 14, 14, 512)       2359808   \n",
      "_________________________________________________________________\n",
      "activation_14 (Activation)   (None, 14, 14, 512)       0         \n",
      "_________________________________________________________________\n",
      "conv2d_15 (Conv2D)           (None, 14, 14, 512)       2359808   \n",
      "_________________________________________________________________\n",
      "activation_15 (Activation)   (None, 14, 14, 512)       0         \n",
      "_________________________________________________________________\n",
      "conv2d_16 (Conv2D)           (None, 14, 14, 512)       2359808   \n",
      "_________________________________________________________________\n",
      "activation_16 (Activation)   (None, 14, 14, 512)       0         \n",
      "_________________________________________________________________\n",
      "max_pooling2d_5 (MaxPooling2 (None, 7, 7, 512)         0         \n",
      "_________________________________________________________________\n",
      "flatten_1 (Flatten)          (None, 25088)             0         \n",
      "_________________________________________________________________\n",
      "dense_1 (Dense)              (None, 4096)              102764544 \n",
      "_________________________________________________________________\n",
      "activation_17 (Activation)   (None, 4096)              0         \n",
      "_________________________________________________________________\n",
      "dense_2 (Dense)              (None, 4096)              16781312  \n",
      "_________________________________________________________________\n",
      "activation_18 (Activation)   (None, 4096)              0         \n",
      "_________________________________________________________________\n",
      "dense_3 (Dense)              (None, 5)                 20485     \n",
      "_________________________________________________________________\n",
      "activation_19 (Activation)   (None, 5)                 0         \n",
      "=================================================================\n",
      "Total params: 139,590,725\n",
      "Trainable params: 139,590,725\n",
      "Non-trainable params: 0\n",
      "_________________________________________________________________\n"
     ]
    }
   ],
   "source": [
    "model.summary()"
   ]
  },
  {
   "cell_type": "code",
   "execution_count": null,
   "metadata": {},
   "outputs": [],
   "source": []
  }
 ],
 "metadata": {
  "kernelspec": {
   "display_name": "Python 3",
   "language": "python",
   "name": "python3"
  },
  "language_info": {
   "codemirror_mode": {
    "name": "ipython",
    "version": 3
   },
   "file_extension": ".py",
   "mimetype": "text/x-python",
   "name": "python",
   "nbconvert_exporter": "python",
   "pygments_lexer": "ipython3",
   "version": "3.5.5"
  }
 },
 "nbformat": 4,
 "nbformat_minor": 2
}
