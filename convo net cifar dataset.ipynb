{
 "cells": [
  {
   "cell_type": "code",
   "execution_count": 1,
   "metadata": {
    "collapsed": true
   },
   "outputs": [],
   "source": [
    "import math\n",
    "import numpy as np\n",
    "import h5py\n",
    "import matplotlib.pyplot as plt\n",
    "import scipy\n",
    "from scipy import ndimage\n",
    "import tensorflow as tf\n",
    "from tensorflow.python.framework import ops\n"
   ]
  },
  {
   "cell_type": "code",
   "execution_count": 2,
   "metadata": {
    "collapsed": true
   },
   "outputs": [],
   "source": [
    "import pandas as pd"
   ]
  },
  {
   "cell_type": "code",
   "execution_count": 3,
   "metadata": {
    "collapsed": true
   },
   "outputs": [],
   "source": [
    "#classes=pd.read_csv(\"trainLabels.csv\")"
   ]
  },
  {
   "cell_type": "code",
   "execution_count": 4,
   "metadata": {
    "collapsed": true
   },
   "outputs": [],
   "source": [
    "#classes.head()"
   ]
  },
  {
   "cell_type": "code",
   "execution_count": 5,
   "metadata": {},
   "outputs": [
    {
     "name": "stderr",
     "output_type": "stream",
     "text": [
      "Using TensorFlow backend.\n"
     ]
    }
   ],
   "source": [
    "from keras.datasets import cifar100\n"
   ]
  },
  {
   "cell_type": "code",
   "execution_count": 6,
   "metadata": {
    "collapsed": true
   },
   "outputs": [],
   "source": [
    "(X_train, y_train), (X_test, y_test) = cifar100.load_data(label_mode='fine')\n",
    "#num_train, img_channels, img_rows, img_cols =  train_features.shape\n",
    "#num_test, _, _, _ =  test_features.shape\n",
    "#num_classes = len(np.unique(train_labels))"
   ]
  },
  {
   "cell_type": "code",
   "execution_count": 7,
   "metadata": {},
   "outputs": [
    {
     "data": {
      "text/plain": [
       "(50000, 32, 32, 3)"
      ]
     },
     "execution_count": 7,
     "metadata": {},
     "output_type": "execute_result"
    }
   ],
   "source": [
    "X_train.shape"
   ]
  },
  {
   "cell_type": "code",
   "execution_count": 8,
   "metadata": {},
   "outputs": [
    {
     "data": {
      "text/plain": [
       "(50000, 1)"
      ]
     },
     "execution_count": 8,
     "metadata": {},
     "output_type": "execute_result"
    }
   ],
   "source": [
    "y_train.shape"
   ]
  },
  {
   "cell_type": "code",
   "execution_count": 9,
   "metadata": {},
   "outputs": [
    {
     "data": {
      "text/plain": [
       "array([[19],\n",
       "       [29],\n",
       "       [ 0],\n",
       "       ..., \n",
       "       [ 3],\n",
       "       [ 7],\n",
       "       [73]])"
      ]
     },
     "execution_count": 9,
     "metadata": {},
     "output_type": "execute_result"
    }
   ],
   "source": [
    "y_train"
   ]
  },
  {
   "cell_type": "code",
   "execution_count": 10,
   "metadata": {},
   "outputs": [
    {
     "data": {
      "image/png": "[encoded data removed]",
      "text/plain": [
       "<matplotlib.figure.Figure at 0x192e74605c0>"
      ]
     },
     "metadata": {},
     "output_type": "display_data"
    }
   ],
   "source": [
    "index = 10\n",
    "plt.imshow(X_train[index])\n",
    "plt.show()"
   ]
  },
  {
   "cell_type": "code",
   "execution_count": 11,
   "metadata": {
    "collapsed": true
   },
   "outputs": [],
   "source": [
    "X_train = X_train/255.\n",
    "X_test = X_test/255.\n"
   ]
  },
  {
   "cell_type": "code",
   "execution_count": 12,
   "metadata": {},
   "outputs": [
    {
     "data": {
      "text/plain": [
       "(50000, 32, 32, 3)"
      ]
     },
     "execution_count": 12,
     "metadata": {},
     "output_type": "execute_result"
    }
   ],
   "source": [
    "X_train.shape"
   ]
  },
  {
   "cell_type": "code",
   "execution_count": 13,
   "metadata": {},
   "outputs": [
    {
     "data": {
      "text/plain": [
       "dtype('float64')"
      ]
     },
     "execution_count": 13,
     "metadata": {},
     "output_type": "execute_result"
    }
   ],
   "source": [
    "X_train.dtype"
   ]
  },
  {
   "cell_type": "code",
   "execution_count": 14,
   "metadata": {
    "collapsed": true
   },
   "outputs": [],
   "source": [
    "%matplotlib inline\n",
    "np.random.seed(1)"
   ]
  },
  {
   "cell_type": "code",
   "execution_count": 15,
   "metadata": {
    "collapsed": true
   },
   "outputs": [],
   "source": [
    "#TensorFlow requires that you create placeholders for the input data that will be fed into the model when running the session.\n",
    "def create_placeholder(n_h,n_w,n_c,label):\n",
    "    \n",
    "    X=tf.placeholder(tf.float32,shape=(None,n_h,n_w,n_c))\n",
    "    Y=tf.placeholder(tf.float32,shape=(None,label))\n",
    "    \n",
    "    return X,Y\n",
    "    "
   ]
  },
  {
   "cell_type": "code",
   "execution_count": 16,
   "metadata": {},
   "outputs": [
    {
     "name": "stdout",
     "output_type": "stream",
     "text": [
      "X = Tensor(\"Placeholder:0\", shape=(?, 32, 32, 3), dtype=float32)\n",
      "Y = Tensor(\"Placeholder_1:0\", shape=(?, 100), dtype=float32)\n"
     ]
    }
   ],
   "source": [
    "X, Y = create_placeholder(32, 32, 3, 100)\n",
    "print (\"X = \" + str(X))\n",
    "print (\"Y = \" + str(Y))"
   ]
  },
  {
   "cell_type": "code",
   "execution_count": 17,
   "metadata": {
    "collapsed": true
   },
   "outputs": [],
   "source": [
    "def initialize_weight():\n",
    "    #    Initializes weight parameters to build a neural network with tensorflow.\n",
    "    tf.set_random_seed(1)\n",
    "    \n",
    "    w1=tf.get_variable(\"w1\",[5,5,3,20],initializer=tf.contrib.layers.xavier_initializer(seed=0))\n",
    "    w2=tf.get_variable(\"w2\",[5,5,20,20],initializer=tf.contrib.layers.xavier_initializer(seed=0))\n",
    "    w3=tf.get_variable(\"w3\",[5,5,20,20],initializer=tf.contrib.layers.xavier_initializer(seed=0))\n",
    "    w4=tf.get_variable(\"w4\",[5,5,20,20],initializer=tf.contrib.layers.xavier_initializer(seed=0))\n",
    "    w5=tf.get_variable(\"w5\",[5,5,20,20],initializer=tf.contrib.layers.xavier_initializer(seed=0))\n",
    "\n",
    "\n",
    "\n",
    "    parameters={\"w1\":w1,\n",
    "                \"w2\":w2, \n",
    "                \"w3\":w3,\n",
    "                \"w4\":w4,\n",
    "                 \"w5\":w5}\n",
    "    \n",
    "    return parameters"
   ]
  },
  {
   "cell_type": "code",
   "execution_count": 18,
   "metadata": {},
   "outputs": [
    {
     "name": "stdout",
     "output_type": "stream",
     "text": [
      "w1 = [-0.09227955  0.01970217 -0.01005384 -0.09455211 -0.07511778 -0.02913931\n",
      " -0.0081874  -0.05044512 -0.10122246 -0.02417627 -0.09030078 -0.04440387\n",
      "  0.02245919 -0.09806493  0.04956377  0.02185374  0.07320614  0.042335\n",
      "  0.06336805 -0.10107009]\n",
      "w2 = [ 0.00076752  0.07216509 -0.04682332  0.07209965  0.0732206  -0.02780577\n",
      " -0.03912907  0.0036763   0.07563546 -0.02299793 -0.01903649 -0.05896062\n",
      "  0.06914204  0.03984906 -0.0356699   0.07500588  0.02960422 -0.06865672\n",
      " -0.06381108 -0.05951216]\n",
      "w3 = [ 0.00076752  0.07216509 -0.04682332  0.07209965  0.0732206  -0.02780577\n",
      " -0.03912907  0.0036763   0.07563546 -0.02299793 -0.01903649 -0.05896062\n",
      "  0.06914204  0.03984906 -0.0356699   0.07500588  0.02960422 -0.06865672\n",
      " -0.06381108 -0.05951216]\n",
      "w4 = [ 0.00076752  0.07216509 -0.04682332  0.07209965  0.0732206  -0.02780577\n",
      " -0.03912907  0.0036763   0.07563546 -0.02299793 -0.01903649 -0.05896062\n",
      "  0.06914204  0.03984906 -0.0356699   0.07500588  0.02960422 -0.06865672\n",
      " -0.06381108 -0.05951216]\n",
      "w5 = [ 0.00076752  0.07216509 -0.04682332  0.07209965  0.0732206  -0.02780577\n",
      " -0.03912907  0.0036763   0.07563546 -0.02299793 -0.01903649 -0.05896062\n",
      "  0.06914204  0.03984906 -0.0356699   0.07500588  0.02960422 -0.06865672\n",
      " -0.06381108 -0.05951216]\n"
     ]
    }
   ],
   "source": [
    "tf.reset_default_graph()\n",
    "with tf.Session() as sess:\n",
    "    parameters=initialize_weight()\n",
    "    sess.run(tf.global_variables_initializer())\n",
    "    print(\"w1 = \" + str(parameters[\"w1\"].eval()[1,1,1]))\n",
    "    print(\"w2 = \" + str(parameters[\"w2\"].eval()[1,1,1]))\n",
    "    print(\"w3 = \" + str(parameters[\"w3\"].eval()[1,1,1]))\n",
    "    print(\"w4 = \" + str(parameters[\"w4\"].eval()[1,1,1]))\n",
    "    print(\"w5 = \" + str(parameters[\"w5\"].eval()[1,1,1]))\n",
    "\n",
    "\n"
   ]
  },
  {
   "cell_type": "code",
   "execution_count": 19,
   "metadata": {
    "collapsed": true
   },
   "outputs": [],
   "source": [
    "def forward_prop(X,parameters):\n",
    "    \n",
    "        \n",
    "\n",
    "    # Retrieve the parameters from the dictionary \"parameters\" \n",
    "    w1 = parameters['w1']\n",
    "    w2 = parameters['w2']\n",
    "    w3 = parameters['w3']\n",
    "    w4 = parameters['w4']\n",
    "    w5 = parameters['w5']\n",
    "    \n",
    "    ### START CODE HERE ###     \n",
    "    #CONV2D: stride of 1\n",
    "    z1=tf.nn.conv2d(X,w1,strides=[1,1,1,1],padding=\"VALID\")\n",
    "    #Relu\n",
    "    a1=tf.nn.relu(z1)\n",
    "    # MAXPOOL: window 2x2, stride 2\n",
    "    p1=tf.nn.max_pool(a1,ksize=[1,2,2,1],strides=[1,2,2,1],padding=\"SAME\")\n",
    "    # CONV2D: filters w2, stride 1\n",
    "    z2=tf.nn.conv2d(p1,w2,strides=[1,1,1,1],padding=\"SAME\")\n",
    "    #Relu\n",
    "    a2=tf.nn.relu(z2)\n",
    "    #MAXPOOL: window 2x2, stride 2 \n",
    "    p2=tf.nn.max_pool(a2,ksize=[1,2,2,1],strides=[1,2,2,1],padding=\"SAME\")\n",
    "    # CONV2D: filters W3, stride 1\n",
    "    z3=tf.nn.conv2d(p2,w3,strides=[1,1,1,1],padding=\"SAME\")\n",
    "    #Relu\n",
    "    a3=tf.nn.relu(z3)\n",
    "    #MAXPOOL: window 2x2, stride 2\n",
    "    p3=tf.nn.max_pool(a3,ksize=[1,2,2,1],strides=[1,2,2,1],padding=\"SAME\")\n",
    "    # CONV2D: filters W4, stride 1\n",
    "    z4=tf.nn.conv2d(p3,w4,strides=[1,1,1,1],padding=\"SAME\")\n",
    "    #Relu\n",
    "    a4=tf.nn.relu(z4)\n",
    "    #MAXPOOL: window 2x2, stride 2 \n",
    "    p4=tf.nn.max_pool(a4,ksize=[1,2,2,1],strides=[1,2,2,1],padding=\"SAME\")\n",
    "    # CONV2D: filters W5, stride 1\n",
    "    z5=tf.nn.conv2d(p4,w5,strides=[1,1,1,1],padding=\"SAME\")\n",
    "    #Relu\n",
    "    a5=tf.nn.relu(z5)\n",
    "    #MAXPOOL: window 2x2, stride 2 \n",
    "    p5=tf.nn.max_pool(a5,ksize=[1,2,2,1],strides=[1,2,2,1],padding=\"SAME\")\n",
    "    # FLATTEN\n",
    "    p5 = tf.contrib.layers.flatten(p5)\n",
    "    # FULLY-CONNECTED Layer 1\n",
    "    fc1 = tf.contrib.layers.fully_connected(p5, 100, activation_fn=tf.nn.relu)\n",
    "    # FULLY-CONNECTED Layer 2\n",
    "    fc2 = tf.contrib.layers.fully_connected(fc1,100,activation_fn=tf.nn.relu)\n",
    "    # FULLY-CONNECTED Hash layer creating 48 bit binary hash code\n",
    "    hashlayer=tf.contrib.layers.fully_connected(fc2,48,activation_fn=tf.nn.sigmoid)\n",
    "    bn=tf.divide(tf.add(tf.sign(tf.subtract(hashlayer,0.5)),1),2)\n",
    "    ### END CODE HERE ###\n",
    "    #print (type(bn))\n",
    "    return bn,fc2\n",
    "\n",
    "    \n",
    "   \n",
    "   \n"
   ]
  },
  {
   "cell_type": "code",
   "execution_count": 20,
   "metadata": {},
   "outputs": [
    {
     "name": "stdout",
     "output_type": "stream",
     "text": [
      "h = [[ 1.  1.  1.  1.  1.  1.  1.  0.  1.  0.  0.  0.  1.  1.  0.  1.  1.  1.\n",
      "   1.  1.  0.  0.  0.  0.  1.  1.  1.  1.  1.  1.  0.  0.  1.  0.  0.  1.\n",
      "   1.  1.  1.  0.  0.  0.  1.  1.  0.  0.  0.  0.]\n",
      " [ 1.  1.  1.  1.  1.  1.  1.  0.  1.  0.  0.  0.  1.  1.  0.  1.  1.  1.\n",
      "   1.  1.  0.  0.  0.  0.  1.  1.  1.  1.  1.  1.  0.  0.  1.  0.  0.  1.\n",
      "   1.  1.  1.  0.  0.  0.  1.  1.  0.  0.  1.  0.]\n",
      " [ 1.  1.  1.  1.  1.  1.  1.  0.  1.  0.  0.  0.  1.  1.  0.  1.  1.  1.\n",
      "   1.  1.  0.  0.  0.  0.  1.  1.  1.  1.  1.  1.  0.  0.  1.  0.  0.  1.\n",
      "   1.  1.  1.  0.  0.  0.  1.  1.  0.  0.  1.  0.]\n",
      " [ 1.  1.  1.  1.  1.  1.  1.  0.  1.  0.  0.  0.  1.  1.  1.  1.  1.  1.\n",
      "   1.  1.  0.  0.  0.  0.  1.  0.  1.  1.  1.  1.  0.  0.  1.  0.  0.  1.\n",
      "   1.  1.  1.  0.  0.  0.  1.  1.  0.  0.  1.  0.]]\n"
     ]
    }
   ],
   "source": [
    "tf.reset_default_graph()\n",
    "with tf.Session() as sess:\n",
    "    np.random.seed(1)\n",
    "    X, Y = create_placeholder(32, 32, 3, 100)\n",
    "    parameters = initialize_weight()\n",
    "    h,z3 = forward_prop(X, parameters)\n",
    "    init = tf.global_variables_initializer()\n",
    "    sess.run(init)\n",
    "    a = sess.run(h, {X: np.random.randn(4,32,32,3), Y: np.random.randn(4,100)})\n",
    "    print(\"h = \" + str(a))"
   ]
  },
  {
   "cell_type": "code",
   "execution_count": 21,
   "metadata": {},
   "outputs": [
    {
     "name": "stdout",
     "output_type": "stream",
     "text": [
      "Tensor(\"fully_connected_1/Relu:0\", shape=(?, 100), dtype=float32)\n"
     ]
    }
   ],
   "source": [
    "print (z3)"
   ]
  },
  {
   "cell_type": "code",
   "execution_count": 22,
   "metadata": {
    "collapsed": true
   },
   "outputs": [],
   "source": [
    "def compute_cost(z3, Y):\n",
    "    ### START CODE HERE ### (1 line of code)\n",
    "    cost = tf.reduce_mean(tf.nn.softmax(logits=z3, name=None))\n",
    "    ### END CODE HERE ###\n",
    "    \n",
    "    return cost"
   ]
  },
  {
   "cell_type": "code",
   "execution_count": 23,
   "metadata": {},
   "outputs": [
    {
     "name": "stdout",
     "output_type": "stream",
     "text": [
      "cost = 0.01\n"
     ]
    }
   ],
   "source": [
    "tf.reset_default_graph()\n",
    "\n",
    "with tf.Session() as sess:\n",
    "    np.random.seed(1)\n",
    "    X, Y = create_placeholder(32, 32, 3, 100)\n",
    "    parameters = initialize_weight()\n",
    "    h,z3 = forward_prop(X, parameters)\n",
    "    cost = compute_cost(z3, Y)\n",
    "    init = tf.global_variables_initializer()\n",
    "    sess.run(init)\n",
    "    a = sess.run(cost, {X: np.random.randn(1,32,32,3), Y: np.random.randn(1,100)})\n",
    "    print(\"cost = \" + str(a))"
   ]
  },
  {
   "cell_type": "code",
   "execution_count": null,
   "metadata": {
    "collapsed": true
   },
   "outputs": [],
   "source": [
    "\n"
   ]
  },
  {
   "cell_type": "code",
   "execution_count": null,
   "metadata": {
    "collapsed": true
   },
   "outputs": [],
   "source": [
    "hash_input=[]\n",
    "batchsize=10000\n",
    "num_epochs=1\n",
    "def model(X_train, Y_train, X_test, Y_test, learning_rate = 0.009,print_cost = True):\n",
    "        \n",
    "    ops.reset_default_graph()                         # to be able to rerun the model without overwriting tf variables\n",
    "    tf.set_random_seed(1)                             # to keep results consistent (tensorflow seed)\n",
    "    seed = 3                                          # to keep results consistent (numpy seed)\n",
    "    (m, n_h, n_w, n_c) = X_train.shape             \n",
    "    label = Y_train.shape[1]                            \n",
    "    costs = []                                        # To keep track of the cost\n",
    "    \n",
    "    # Create Placeholders of the correct shape\n",
    "    X, Y = create_placeholder(n_h, n_w, n_c, label)\n",
    "\n",
    "    # Initialize parameters\n",
    "    parameters = initialize_weight()\n",
    "    \n",
    "    # Forward propagation: Build the forward propagation in the tensorflow graph\n",
    "    h,z3 = forward_prop(X, parameters)\n",
    "    hash_input.append(h)\n",
    "\n",
    "    \n",
    "    # Cost function: Add cost function to tensorflow graph\n",
    "    cost = compute_cost(z3, Y)\n",
    "    \n",
    "    # Backpropagation: Define the tensorflow optimizer. Use an AdamOptimizer that minimizes the cost.\n",
    "    optimizer = tf.train.AdamOptimizer(learning_rate).minimize(cost)\n",
    "    \n",
    "    # Initialize all the variables globally\n",
    "    init = tf.global_variables_initializer()\n",
    "     \n",
    "    # Start the session to compute the tensorflow graph\n",
    "    with tf.Session() as sess:\n",
    "        \n",
    "        # Run the initialization\n",
    "        sess.run(init)\n",
    "        \n",
    "        # Do the training loop\n",
    "        for epoch in range(num_epochs):\n",
    "            minibatch_cost = 0.\n",
    "            num_minibatches = int(m / batchsize) # number of minibatches of size minibatch_size in the train set\n",
    "            seed = seed + 1\n",
    "            for index, offset in enumerate(range(0, len(X_train), batchsize)):\n",
    "                batch_x, batch_y = X_train[offset: offset + batchsize], Y_train[offset: offset + batchsize]\n",
    "                _ , temp_cost = sess.run([optimizer, cost], feed_dict={X: batch_x, Y: batch_y})\n",
    "            \n",
    "            minibatch_cost += temp_cost / num_minibatches\n",
    "         # Print the cost every epoch\n",
    "        if print_cost == True and epoch % 5 == 0:\n",
    "            print (\"Cost after epoch %i: %f\" % (epoch, minibatch_cost))\n",
    "        if print_cost == True and epoch % 1 == 0:\n",
    "            costs.append(minibatch_cost)\n",
    "            \n",
    "       # plot the cost\n",
    "        #plt.plot(np.squeeze(costs))\n",
    "        #plt.ylabel('cost')\n",
    "        #plt.xlabel('iterations (per tens)')\n",
    "        #plt.title(\"Learning rate =\" + str(learning_rate))\n",
    "        #plt.show()\n",
    "        \n",
    "        #Calculate the correct predictions\n",
    "        predict_op = tf.argmax(z3, 1)\n",
    "        correct_prediction = tf.equal(predict_op, tf.argmax(Y, 1))\n",
    "        \n",
    "        # Calculate accuracy on the test set\n",
    "        accuracy = tf.reduce_mean(tf.cast(correct_prediction, \"float\"))\n",
    "        print(accuracy)\n",
    "        train_accuracy = accuracy.eval({X: X_train, Y: Y_train})\n",
    "        test_accuracy = accuracy.eval({X: X_test, Y: Y_test})\n",
    "        print(\"Train Accuracy:\", train_accuracy)\n",
    "        print(\"Test Accuracy:\", test_accuracy)\n",
    "        \n",
    "        return parameters,hash_input\n",
    "\n",
    "            \n",
    "            \n",
    "\n",
    "            "
   ]
  },
  {
   "cell_type": "code",
   "execution_count": null,
   "metadata": {
    "collapsed": true
   },
   "outputs": [],
   "source": [
    "parameters,hash_input=model(X_train, y_train, X_test, y_test,0.09,True)"
   ]
  },
  {
   "cell_type": "code",
   "execution_count": null,
   "metadata": {
    "collapsed": true
   },
   "outputs": [],
   "source": [
    "hash_input.shape"
   ]
  },
  {
   "cell_type": "code",
   "execution_count": null,
   "metadata": {
    "collapsed": true
   },
   "outputs": [],
   "source": []
  },
  {
   "cell_type": "code",
   "execution_count": null,
   "metadata": {
    "collapsed": true
   },
   "outputs": [],
   "source": []
  },
  {
   "cell_type": "code",
   "execution_count": null,
   "metadata": {
    "collapsed": true
   },
   "outputs": [],
   "source": []
  },
  {
   "cell_type": "code",
   "execution_count": null,
   "metadata": {
    "collapsed": true
   },
   "outputs": [],
   "source": []
  },
  {
   "cell_type": "code",
   "execution_count": null,
   "metadata": {
    "collapsed": true
   },
   "outputs": [],
   "source": []
  }
 ],
 "metadata": {
  "kernelspec": {
   "display_name": "Python 3",
   "language": "python",
   "name": "python3"
  },
  "language_info": {
   "codemirror_mode": {
    "name": "ipython",
    "version": 3
   },
   "file_extension": ".py",
   "mimetype": "text/x-python",
   "name": "python",
   "nbconvert_exporter": "python",
   "pygments_lexer": "ipython3",
   "version": "3.6.3"
  }
 },
 "nbformat": 4,
 "nbformat_minor": 2
}
