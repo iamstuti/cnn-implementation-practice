{
 "cells": [
  {
   "cell_type": "code",
   "execution_count": 1,
   "metadata": {},
   "outputs": [
    {
     "name": "stderr",
     "output_type": "stream",
     "text": [
      "Using TensorFlow backend.\n"
     ]
    }
   ],
   "source": [
    "import numpy as np\n",
    "from keras.models import Sequential\n",
    "from keras.layers import Input,Dense,Activation,Flatten,ZeroPadding2D,Conv2D,BatchNormalization\n",
    "from keras.layers import AveragePooling2D,MaxPooling2D,GlobalAveragePooling2D,GlobalMaxPooling2D,Dropout\n",
    "from keras.optimizers import SGD,RMSprop,adam\n",
    "from keras.preprocessing import image"
   ]
  },
  {
   "cell_type": "code",
   "execution_count": 2,
   "metadata": {},
   "outputs": [],
   "source": [
    "from keras.datasets import cifar100\n"
   ]
  },
  {
   "cell_type": "code",
   "execution_count": 3,
   "metadata": {},
   "outputs": [],
   "source": [
    "import os\n",
    "import matplotlib\n",
    "import matplotlib.pyplot as plt\n",
    "from sklearn.model_selection import train_test_split\n",
    "from sklearn.utils import shuffle\n"
   ]
  },
  {
   "cell_type": "code",
   "execution_count": 4,
   "metadata": {},
   "outputs": [],
   "source": [
    "from keras.utils import layer_utils\n",
    "from keras.utils import np_utils\n",
    "from keras.utils.data_utils import get_file\n",
    "from keras.utils import plot_model\n",
    "from keras.utils.vis_utils import model_to_dot\n",
    "from keras.applications.imagenet_utils import preprocess_input\n",
    "from IPython.display import SVG\n"
   ]
  },
  {
   "cell_type": "code",
   "execution_count": 5,
   "metadata": {},
   "outputs": [],
   "source": [
    "path1=\"C:\\dataset 3\"\n",
    "path2=\"C:\\dataset 3 after preprocessing\""
   ]
  },
  {
   "cell_type": "code",
   "execution_count": 6,
   "metadata": {},
   "outputs": [],
   "source": [
    "listing=os.listdir(path1)"
   ]
  },
  {
   "cell_type": "code",
   "execution_count": 7,
   "metadata": {},
   "outputs": [],
   "source": [
    "from PIL import Image"
   ]
  },
  {
   "cell_type": "code",
   "execution_count": 8,
   "metadata": {},
   "outputs": [],
   "source": [
    "for file in listing:\n",
    "    im=Image.open(path1 +'\\\\'+ file)\n",
    "    im=im.resize((224,224))\n",
    "    im.save(path2 + '\\\\'+ file,\"JPEG\")"
   ]
  },
  {
   "cell_type": "code",
   "execution_count": 9,
   "metadata": {},
   "outputs": [],
   "source": [
    "newlist=os.listdir(path2)"
   ]
  },
  {
   "cell_type": "code",
   "execution_count": 10,
   "metadata": {},
   "outputs": [],
   "source": [
    "immatrix=np.array([np.array(Image.open('C:\\dataset 3 after preprocessing'+ '\\\\'+im)).flatten() for im in newlist],'f')"
   ]
  },
  {
   "cell_type": "code",
   "execution_count": 11,
   "metadata": {},
   "outputs": [
    {
     "data": {
      "text/plain": [
       "(4323, 150528)"
      ]
     },
     "execution_count": 11,
     "metadata": {},
     "output_type": "execute_result"
    }
   ],
   "source": [
    "immatrix.shape"
   ]
  },
  {
   "cell_type": "code",
   "execution_count": 12,
   "metadata": {},
   "outputs": [
    {
     "data": {
      "text/plain": [
       "4323"
      ]
     },
     "execution_count": 12,
     "metadata": {},
     "output_type": "execute_result"
    }
   ],
   "source": [
    "immatrix.shape[0]"
   ]
  },
  {
   "cell_type": "code",
   "execution_count": 13,
   "metadata": {},
   "outputs": [],
   "source": [
    "label=np.ones((immatrix.shape[0],),dtype=int)"
   ]
  },
  {
   "cell_type": "code",
   "execution_count": 14,
   "metadata": {},
   "outputs": [],
   "source": [
    "label[0:770]=0\n",
    "label[770:1053]=1\n",
    "label[1053:1837]=2\n",
    "label[1837:2571]=3\n",
    "label[2571:]=4"
   ]
  },
  {
   "cell_type": "code",
   "execution_count": 15,
   "metadata": {},
   "outputs": [],
   "source": [
    "data,label=shuffle(immatrix,label,random_state=2)"
   ]
  },
  {
   "cell_type": "code",
   "execution_count": 16,
   "metadata": {},
   "outputs": [],
   "source": [
    "train_data=[data,label]"
   ]
  },
  {
   "cell_type": "code",
   "execution_count": 17,
   "metadata": {},
   "outputs": [
    {
     "name": "stderr",
     "output_type": "stream",
     "text": [
      "Clipping input data to the valid range for imshow with RGB data ([0..1] for floats or [0..255] for integers).\n"
     ]
    },
    {
     "data": {
      "text/plain": [
       "<matplotlib.image.AxesImage at 0x1e4ef40d668>"
      ]
     },
     "execution_count": 17,
     "metadata": {},
     "output_type": "execute_result"
    },
    {
     "data": {
      "image/png": "[encoded data removed]",
      "text/plain": [
       "<Figure size 432x288 with 1 Axes>"
      ]
     },
     "metadata": {},
     "output_type": "display_data"
    }
   ],
   "source": [
    "img=immatrix[1].reshape(224,224,3)\n",
    "plt.imshow(img)"
   ]
  },
  {
   "cell_type": "code",
   "execution_count": 18,
   "metadata": {},
   "outputs": [
    {
     "name": "stdout",
     "output_type": "stream",
     "text": [
      "(4323, 150528)\n"
     ]
    }
   ],
   "source": [
    "print(train_data[0].shape)"
   ]
  },
  {
   "cell_type": "code",
   "execution_count": 19,
   "metadata": {},
   "outputs": [],
   "source": [
    "x,y=(train_data[0],train_data[1])"
   ]
  },
  {
   "cell_type": "code",
   "execution_count": 20,
   "metadata": {},
   "outputs": [],
   "source": [
    "x_train=x[:-2573,:]\n",
    "y_train=y[:-2573]\n"
   ]
  },
  {
   "cell_type": "code",
   "execution_count": 21,
   "metadata": {},
   "outputs": [],
   "source": [
    "x_test=x[-1750:,:]\n",
    "y_test=y[-1750:]\n"
   ]
  },
  {
   "cell_type": "code",
   "execution_count": 22,
   "metadata": {},
   "outputs": [],
   "source": [
    "x_train=x_train.reshape(x_train.shape[0],224,224,3)\n",
    "x_test=x_test.reshape(x_test.shape[0],224,224,3)"
   ]
  },
  {
   "cell_type": "code",
   "execution_count": 23,
   "metadata": {},
   "outputs": [],
   "source": [
    "# x_train=x_train.astype('float32')\n",
    "# x_test=x_test.astype('float32')"
   ]
  },
  {
   "cell_type": "code",
   "execution_count": 24,
   "metadata": {},
   "outputs": [],
   "source": [
    "x_train/=255\n",
    "x_test/=255"
   ]
  },
  {
   "cell_type": "code",
   "execution_count": 25,
   "metadata": {},
   "outputs": [
    {
     "name": "stdout",
     "output_type": "stream",
     "text": [
      "(1750, 224, 224, 3)\n",
      "(1750, 224, 224, 3)\n"
     ]
    }
   ],
   "source": [
    "print(x_train.shape)\n",
    "print(x_test.shape)"
   ]
  },
  {
   "cell_type": "code",
   "execution_count": 26,
   "metadata": {},
   "outputs": [],
   "source": [
    "y_train=np_utils.to_categorical(y_train,5)\n",
    "y_test=np_utils.to_categorical(y_test,5)"
   ]
  },
  {
   "cell_type": "code",
   "execution_count": 27,
   "metadata": {},
   "outputs": [
    {
     "name": "stdout",
     "output_type": "stream",
     "text": [
      "(1750, 5)\n",
      "(1750, 5)\n"
     ]
    }
   ],
   "source": [
    "print(y_train.shape)\n",
    "print(y_test.shape)"
   ]
  },
  {
   "cell_type": "code",
   "execution_count": 28,
   "metadata": {},
   "outputs": [],
   "source": [
    "#alexenet"
   ]
  },
  {
   "cell_type": "code",
   "execution_count": 29,
   "metadata": {},
   "outputs": [],
   "source": [
    "model=Sequential()\n",
    "model.add(Conv2D(96,(11,11),strides=(4,4),padding=\"valid\",input_shape=(224,224,3)))\n",
    "convout1=Activation('relu')\n",
    "model.add(convout1)\n",
    "model.add(MaxPooling2D((3,3),strides=(2,2)))\n",
    "model.add(Conv2D(256,(5,5),padding=\"same\"))\n",
    "convout2=Activation('relu')\n",
    "model.add(convout2)\n",
    "model.add(MaxPooling2D((3,3),strides=(2,2)))\n",
    "model.add(Conv2D(384,(3,3),padding=\"same\"))\n",
    "convout3=Activation('relu')\n",
    "model.add(convout3)\n",
    "model.add(Conv2D(384,(3,3),padding=\"same\"))\n",
    "convout4=Activation('relu')\n",
    "model.add(convout4)\n",
    "model.add(Conv2D(256,(3,3),padding=\"same\"))\n",
    "convout5=Activation('relu')\n",
    "model.add(convout5)\n",
    "model.add(MaxPooling2D((3,3),strides=(2,2)))\n",
    "\n",
    "model.add(Dropout(0.5))\n",
    "\n",
    "model.add(Flatten())\n",
    "model.add(Dense(4096))\n",
    "model.add(Activation('relu'))\n",
    "model.add(Dense(4096))\n",
    "model.add(Activation('relu'))\n",
    "model.add(Dropout(0.5))\n",
    "\n",
    "model.add(Dense(5))\n",
    "model.add(Activation('softmax'))\n",
    "model.compile(optimizer='adadelta',loss='categorical_crossentropy',metrics=[\"accuracy\"])\n",
    "\n",
    "\n",
    "\n"
   ]
  },
  {
   "cell_type": "code",
   "execution_count": 30,
   "metadata": {},
   "outputs": [
    {
     "name": "stdout",
     "output_type": "stream",
     "text": [
      "Train on 1750 samples, validate on 1750 samples\n",
      "Epoch 1/50\n",
      "1750/1750 [==============================] - 434s 248ms/step - loss: 5.9513 - acc: 0.2594 - val_loss: 13.2445 - val_acc: 0.1783\n",
      "Epoch 2/50\n",
      "1750/1750 [==============================] - 390s 223ms/step - loss: 13.1432 - acc: 0.1846 - val_loss: 13.2445 - val_acc: 0.1783\n",
      "Epoch 3/50\n",
      "1750/1750 [==============================] - 387s 221ms/step - loss: 13.1432 - acc: 0.1846 - val_loss: 13.2445 - val_acc: 0.1783\n",
      "Epoch 4/50\n",
      "1750/1750 [==============================] - 389s 222ms/step - loss: 13.1432 - acc: 0.1846 - val_loss: 13.2445 - val_acc: 0.1783\n",
      "Epoch 5/50\n",
      "1750/1750 [==============================] - 389s 222ms/step - loss: 13.1432 - acc: 0.1846 - val_loss: 13.2445 - val_acc: 0.1783\n",
      "Epoch 6/50\n",
      "1750/1750 [==============================] - 391s 223ms/step - loss: 13.1432 - acc: 0.1846 - val_loss: 13.2445 - val_acc: 0.1783\n",
      "Epoch 7/50\n",
      "1750/1750 [==============================] - 389s 222ms/step - loss: 13.1432 - acc: 0.1846 - val_loss: 13.2445 - val_acc: 0.1783\n",
      "Epoch 8/50\n",
      "1750/1750 [==============================] - 407s 233ms/step - loss: 13.1432 - acc: 0.1846 - val_loss: 13.2445 - val_acc: 0.1783\n",
      "Epoch 9/50\n",
      "1750/1750 [==============================] - 401s 229ms/step - loss: 13.1432 - acc: 0.1846 - val_loss: 13.2445 - val_acc: 0.1783\n",
      "Epoch 10/50\n",
      "1750/1750 [==============================] - 409s 234ms/step - loss: 13.1432 - acc: 0.1846 - val_loss: 13.2445 - val_acc: 0.1783\n",
      "Epoch 11/50\n",
      "1750/1750 [==============================] - 402s 230ms/step - loss: 13.1432 - acc: 0.1846 - val_loss: 13.2445 - val_acc: 0.1783\n",
      "Epoch 12/50\n",
      "1750/1750 [==============================] - 409s 234ms/step - loss: 13.1432 - acc: 0.1846 - val_loss: 13.2445 - val_acc: 0.1783\n",
      "Epoch 13/50\n",
      "1750/1750 [==============================] - 392s 224ms/step - loss: 13.1432 - acc: 0.1846 - val_loss: 13.2445 - val_acc: 0.1783\n",
      "Epoch 14/50\n",
      "1750/1750 [==============================] - 373s 213ms/step - loss: 13.1432 - acc: 0.1846 - val_loss: 13.2445 - val_acc: 0.1783\n",
      "Epoch 15/50\n",
      "1750/1750 [==============================] - 252s 144ms/step - loss: 13.1432 - acc: 0.1846 - val_loss: 13.2445 - val_acc: 0.1783\n",
      "Epoch 16/50\n",
      "1750/1750 [==============================] - 270s 154ms/step - loss: 13.1432 - acc: 0.1846 - val_loss: 13.2445 - val_acc: 0.1783\n",
      "Epoch 17/50\n",
      "1750/1750 [==============================] - 277s 159ms/step - loss: 13.1432 - acc: 0.1846 - val_loss: 13.2445 - val_acc: 0.1783\n",
      "Epoch 18/50\n",
      "1750/1750 [==============================] - 243s 139ms/step - loss: 13.1432 - acc: 0.1846 - val_loss: 13.2445 - val_acc: 0.1783\n",
      "Epoch 19/50\n",
      "1750/1750 [==============================] - 238s 136ms/step - loss: 13.1432 - acc: 0.1846 - val_loss: 13.2445 - val_acc: 0.1783\n",
      "Epoch 20/50\n",
      "1750/1750 [==============================] - 239s 137ms/step - loss: 13.1432 - acc: 0.1846 - val_loss: 13.2445 - val_acc: 0.1783\n",
      "Epoch 21/50\n",
      "1750/1750 [==============================] - 239s 136ms/step - loss: 13.1432 - acc: 0.1846 - val_loss: 13.2445 - val_acc: 0.1783\n",
      "Epoch 22/50\n",
      "1750/1750 [==============================] - 242s 138ms/step - loss: 13.1432 - acc: 0.1846 - val_loss: 13.2445 - val_acc: 0.1783\n",
      "Epoch 23/50\n",
      "1750/1750 [==============================] - 237s 135ms/step - loss: 13.1432 - acc: 0.1846 - val_loss: 13.2445 - val_acc: 0.1783\n",
      "Epoch 24/50\n",
      "1750/1750 [==============================] - 237s 136ms/step - loss: 13.1432 - acc: 0.1846 - val_loss: 13.2445 - val_acc: 0.1783\n",
      "Epoch 25/50\n",
      "1750/1750 [==============================] - 238s 136ms/step - loss: 13.1432 - acc: 0.1846 - val_loss: 13.2445 - val_acc: 0.1783\n",
      "Epoch 26/50\n",
      "1750/1750 [==============================] - 238s 136ms/step - loss: 13.1432 - acc: 0.1846 - val_loss: 13.2445 - val_acc: 0.1783\n",
      "Epoch 27/50\n",
      "1750/1750 [==============================] - 239s 137ms/step - loss: 13.1432 - acc: 0.1846 - val_loss: 13.2445 - val_acc: 0.1783\n",
      "Epoch 28/50\n",
      "1750/1750 [==============================] - 238s 136ms/step - loss: 13.1432 - acc: 0.1846 - val_loss: 13.2445 - val_acc: 0.1783\n",
      "Epoch 29/50\n",
      "1750/1750 [==============================] - 235s 134ms/step - loss: 13.1432 - acc: 0.1846 - val_loss: 13.2445 - val_acc: 0.1783\n",
      "Epoch 30/50\n",
      "1750/1750 [==============================] - 241s 138ms/step - loss: 13.1432 - acc: 0.1846 - val_loss: 13.2445 - val_acc: 0.1783\n",
      "Epoch 31/50\n",
      "1750/1750 [==============================] - 238s 136ms/step - loss: 13.1432 - acc: 0.1846 - val_loss: 13.2445 - val_acc: 0.1783\n",
      "Epoch 32/50\n",
      "1750/1750 [==============================] - 11040s 6s/step - loss: 13.1432 - acc: 0.1846 - val_loss: 13.2445 - val_acc: 0.1783\n",
      "Epoch 33/50\n",
      "1750/1750 [==============================] - 1985s 1s/step - loss: 13.1432 - acc: 0.1846 - val_loss: 13.2445 - val_acc: 0.1783\n",
      "Epoch 34/50\n",
      "1750/1750 [==============================] - 245s 140ms/step - loss: 13.1432 - acc: 0.1846 - val_loss: 13.2445 - val_acc: 0.1783\n",
      "Epoch 35/50\n",
      "1750/1750 [==============================] - 242s 138ms/step - loss: 13.1432 - acc: 0.1846 - val_loss: 13.2445 - val_acc: 0.1783\n",
      "Epoch 36/50\n",
      "1750/1750 [==============================] - 241s 137ms/step - loss: 13.1432 - acc: 0.1846 - val_loss: 13.2445 - val_acc: 0.1783\n",
      "Epoch 37/50\n",
      "1750/1750 [==============================] - 255s 146ms/step - loss: 13.1432 - acc: 0.1846 - val_loss: 13.2445 - val_acc: 0.1783\n",
      "Epoch 38/50\n",
      "1750/1750 [==============================] - 242s 138ms/step - loss: 13.1432 - acc: 0.1846 - val_loss: 13.2445 - val_acc: 0.1783\n",
      "Epoch 39/50\n",
      "1750/1750 [==============================] - 240s 137ms/step - loss: 13.1432 - acc: 0.1846 - val_loss: 13.2445 - val_acc: 0.1783\n",
      "Epoch 40/50\n",
      "1750/1750 [==============================] - 241s 138ms/step - loss: 13.1432 - acc: 0.1846 - val_loss: 13.2445 - val_acc: 0.1783\n",
      "Epoch 41/50\n",
      "1750/1750 [==============================] - 240s 137ms/step - loss: 13.1432 - acc: 0.1846 - val_loss: 13.2445 - val_acc: 0.1783\n",
      "Epoch 42/50\n",
      "1750/1750 [==============================] - 241s 138ms/step - loss: 13.1432 - acc: 0.1846 - val_loss: 13.2445 - val_acc: 0.1783\n",
      "Epoch 43/50\n",
      "1750/1750 [==============================] - 238s 136ms/step - loss: 13.1432 - acc: 0.1846 - val_loss: 13.2445 - val_acc: 0.1783\n",
      "Epoch 44/50\n",
      "1750/1750 [==============================] - 242s 139ms/step - loss: 13.1432 - acc: 0.1846 - val_loss: 13.2445 - val_acc: 0.1783\n",
      "Epoch 45/50\n",
      "1750/1750 [==============================] - 240s 137ms/step - loss: 13.1432 - acc: 0.1846 - val_loss: 13.2445 - val_acc: 0.1783\n",
      "Epoch 46/50\n",
      "1750/1750 [==============================] - 236s 135ms/step - loss: 13.1432 - acc: 0.1846 - val_loss: 13.2445 - val_acc: 0.1783\n",
      "Epoch 47/50\n",
      "1750/1750 [==============================] - 238s 136ms/step - loss: 13.1432 - acc: 0.1846 - val_loss: 13.2445 - val_acc: 0.1783\n",
      "Epoch 48/50\n",
      "1750/1750 [==============================] - 240s 137ms/step - loss: 13.1432 - acc: 0.1846 - val_loss: 13.2445 - val_acc: 0.1783\n",
      "Epoch 49/50\n",
      "1750/1750 [==============================] - 238s 136ms/step - loss: 13.1432 - acc: 0.1846 - val_loss: 13.2445 - val_acc: 0.1783\n",
      "Epoch 50/50\n",
      "1750/1750 [==============================] - 242s 138ms/step - loss: 13.1432 - acc: 0.1846 - val_loss: 13.2445 - val_acc: 0.1783\n"
     ]
    },
    {
     "data": {
      "text/plain": [
       "<keras.callbacks.History at 0x1e635696be0>"
      ]
     },
     "execution_count": 30,
     "metadata": {},
     "output_type": "execute_result"
    }
   ],
   "source": [
    "model.fit(x_train,y_train,epochs=50,batch_size=800,validation_data=(x_test,y_test))"
   ]
  },
  {
   "cell_type": "code",
   "execution_count": 31,
   "metadata": {},
   "outputs": [
    {
     "name": "stdout",
     "output_type": "stream",
     "text": [
      "1750/1750 [==============================] - 54s 31ms/step\n",
      "test score 13.2444693614\n",
      "test accuracy 0.178285714354\n",
      "[2 2 2 2]\n",
      "[[ 0.  0.  1.  0.  0.]\n",
      " [ 0.  0.  0.  0.  1.]\n",
      " [ 0.  0.  1.  0.  0.]\n",
      " [ 1.  0.  0.  0.  0.]]\n"
     ]
    }
   ],
   "source": [
    "score=model.evaluate(x_test,y_test)\n",
    "print(\"test score\",score[0])\n",
    "print(\"test accuracy\",score[1])\n",
    "print(model.predict_classes(x_test[1:5]))\n",
    "print(y_test[1:5])"
   ]
  },
  {
   "cell_type": "code",
   "execution_count": null,
   "metadata": {},
   "outputs": [],
   "source": []
  }
 ],
 "metadata": {
  "kernelspec": {
   "display_name": "Python 3",
   "language": "python",
   "name": "python3"
  },
  "language_info": {
   "codemirror_mode": {
    "name": "ipython",
    "version": 3
   },
   "file_extension": ".py",
   "mimetype": "text/x-python",
   "name": "python",
   "nbconvert_exporter": "python",
   "pygments_lexer": "ipython3",
   "version": "3.5.5"
  }
 },
 "nbformat": 4,
 "nbformat_minor": 2
}
